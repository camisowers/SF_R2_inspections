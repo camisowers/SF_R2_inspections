{
 "cells": [
  {
   "cell_type": "markdown",
   "id": "ad8cc420-57d7-42f6-8189-ecdd159b90c7",
   "metadata": {},
   "source": [
    "# Risk Score"
   ]
  },
  {
   "cell_type": "markdown",
   "id": "451fd870-6268-4bc5-8fff-32ce1bd0412d",
   "metadata": {},
   "source": [
    "## Read in the data"
   ]
  },
  {
   "cell_type": "code",
   "execution_count": null,
   "id": "2721fb6b-1614-4a65-a144-e6fb38930f3b",
   "metadata": {
    "tags": []
   },
   "outputs": [],
   "source": [
    "base_dir = '/Users/csowers/Documents/Job prep/DataSF'\n",
    "\n",
    "fire_incidents = pd.read_csv(os.path.join(base_dir, 'Fire_Incidents_20250923.csv'))\n",
    "fire_inspections = pd.read_csv(os.path.join(base_dir, 'Fire_Inspections_20250923.csv'))\n",
    "fire_violations = pd.read_csv(os.path.join(base_dir, 'Fire_Violations_20250923.csv'))\n",
    "\n",
    "fire_incidents = fire_incidents.rename(columns={'point': 'Location'})\n",
    "fire_inspections = fire_inspections.rename(columns={'location': 'Location'})\n",
    "\n",
    "properties = pd.read_csv(os.path.join(base_dir, 'Assessor_Historical_Secured_Property_Tax_Rolls_20250923.csv'))\n",
    "parcel_data = pd.read_csv(os.path.join(base_dir, 'Parcels_–_Active_and_Retired_20250923.csv'))"
   ]
  },
  {
   "cell_type": "code",
   "execution_count": 1082,
   "id": "e8cccb84-87dc-46a6-ab85-898c9dc29828",
   "metadata": {
    "execution": {
     "iopub.execute_input": "2025-09-25T03:01:51.296755Z",
     "iopub.status.busy": "2025-09-25T03:01:51.296647Z",
     "iopub.status.idle": "2025-09-25T03:01:52.481903Z",
     "shell.execute_reply": "2025-09-25T03:01:52.481586Z",
     "shell.execute_reply.started": "2025-09-25T03:01:51.296742Z"
    },
    "tags": []
   },
   "outputs": [],
   "source": [
    "# subset for R2 properties only\n",
    "R2_properties_parcel = id_residential_properties(properties, parcel_data)"
   ]
  },
  {
   "cell_type": "markdown",
   "id": "87d32b56-6af8-4dca-b9cd-60c5364498fb",
   "metadata": {},
   "source": [
    "## Feature Generation"
   ]
  },
  {
   "cell_type": "code",
   "execution_count": 1083,
   "id": "bc599b99-7f62-4ca9-be2f-03b19b050e69",
   "metadata": {
    "execution": {
     "iopub.execute_input": "2025-09-25T03:01:52.482407Z",
     "iopub.status.busy": "2025-09-25T03:01:52.482313Z",
     "iopub.status.idle": "2025-09-25T03:01:53.074604Z",
     "shell.execute_reply": "2025-09-25T03:01:53.074264Z",
     "shell.execute_reply.started": "2025-09-25T03:01:52.482394Z"
    },
    "tags": []
   },
   "outputs": [],
   "source": [
    "# compute fire incident stats for the last five years\n",
    "current_year = 2024\n",
    "time_range = 4\n",
    "\n",
    "fire_incidents = fire_incidents.rename(columns={'point': 'Location'})\n",
    "fire_incidents['Incident Date'] = pd.to_datetime(fire_incidents['Incident Date'])\n",
    "fire_incidents = fire_incidents[fire_incidents['Incident Date'].dt.year>= (current_year-time_range)]\n",
    "fire_incident_stats = compute_fire_incident_stats(fire_incidents)"
   ]
  },
  {
   "cell_type": "code",
   "execution_count": 1084,
   "id": "1cb9ae22-136c-4393-9939-cceacc03289d",
   "metadata": {
    "execution": {
     "iopub.execute_input": "2025-09-25T03:01:53.075859Z",
     "iopub.status.busy": "2025-09-25T03:01:53.075746Z",
     "iopub.status.idle": "2025-09-25T03:01:53.098008Z",
     "shell.execute_reply": "2025-09-25T03:01:53.097652Z",
     "shell.execute_reply.started": "2025-09-25T03:01:53.075845Z"
    },
    "tags": []
   },
   "outputs": [],
   "source": [
    "fire_violations_risk = fire_violations.copy()\n",
    "fire_violations_risk['Violation Date'] = pd.to_datetime(fire_violations_risk['Violation Date'])\n",
    "fire_violations_risk = fire_violations_risk[fire_violations_risk['Violation Date'].dt.year>= (current_year-time_range)]"
   ]
  },
  {
   "cell_type": "code",
   "execution_count": 1085,
   "id": "d422a629-1ac2-41fb-b824-22f140fa6cc1",
   "metadata": {
    "execution": {
     "iopub.execute_input": "2025-09-25T03:01:53.098598Z",
     "iopub.status.busy": "2025-09-25T03:01:53.098491Z",
     "iopub.status.idle": "2025-09-25T03:01:53.123321Z",
     "shell.execute_reply": "2025-09-25T03:01:53.122993Z",
     "shell.execute_reply.started": "2025-09-25T03:01:53.098584Z"
    },
    "tags": []
   },
   "outputs": [],
   "source": [
    "# compute fire violation stats for the last five years\n",
    "fire_violations['Violation Date'] = pd.to_datetime(fire_violations['Violation Date'])\n",
    "fire_violations = fire_violations[fire_violations['Violation Date'].dt.year>= (current_year-time_range)]\n",
    "\n",
    "fire_violations_stats = compute_fire_violation_stats(fire_violations)"
   ]
  },
  {
   "cell_type": "code",
   "execution_count": 1086,
   "id": "7d6e9af2-64be-4917-a15f-f1628960f8d1",
   "metadata": {
    "execution": {
     "iopub.execute_input": "2025-09-25T03:01:53.123984Z",
     "iopub.status.busy": "2025-09-25T03:01:53.123868Z",
     "iopub.status.idle": "2025-09-25T03:01:53.143009Z",
     "shell.execute_reply": "2025-09-25T03:01:53.142692Z",
     "shell.execute_reply.started": "2025-09-25T03:01:53.123972Z"
    },
    "tags": []
   },
   "outputs": [],
   "source": [
    "# combine fire features \n",
    "fire_data = pd.merge(fire_incident_stats, fire_violations_stats, on='Location', how='outer')\n",
    "fire_data = fire_data.fillna(0)"
   ]
  },
  {
   "cell_type": "code",
   "execution_count": 1087,
   "id": "b44691c5-a300-481d-af44-58d20071dd29",
   "metadata": {
    "execution": {
     "iopub.execute_input": "2025-09-25T03:01:53.143827Z",
     "iopub.status.busy": "2025-09-25T03:01:53.143639Z",
     "iopub.status.idle": "2025-09-25T03:01:53.795999Z",
     "shell.execute_reply": "2025-09-25T03:01:53.795672Z",
     "shell.execute_reply.started": "2025-09-25T03:01:53.143814Z"
    },
    "tags": []
   },
   "outputs": [],
   "source": [
    "# merge property data\n",
    "incident_pts = fire_incidents[['Address', 'Location']][~fire_incidents['Location'].isna()]\n",
    "inspection_pts = fire_inspections[['Address', 'Location']][~fire_inspections['Location'].isna()]\n",
    "violation_pts = fire_violations[['Address', 'Location']][~fire_violations['Location'].isna()]\n",
    "\n",
    "fire_pts = pd.concat([incident_pts, inspection_pts, violation_pts])\n",
    "fire_pts = fire_pts.drop_duplicates(subset=['Location'])\n",
    "\n",
    "# assign Location coords to Parcel Number for merging\n",
    "point_parcel_map = map_points_to_parcel(R2_properties_parcel, fire_pts)\n",
    "\n",
    "fire_data['Location'] = fire_data['Location'].apply(wkt.loads)\n",
    "fire_data = fire_data.merge(point_parcel_map, on='Location', how='right')\n",
    "fire_data = fire_data.fillna(0)\n",
    "\n",
    "fire_data = fire_data.merge(R2_properties_parcel[['Parcel Number', 'Year Property Built', 'Number of Stories', 'Number of Units', 'Property Class Code Definition']], on='Parcel Number', how='left')"
   ]
  },
  {
   "cell_type": "code",
   "execution_count": 1088,
   "id": "6017a44d-b42a-4563-8662-a6836d9cfed7",
   "metadata": {
    "execution": {
     "iopub.execute_input": "2025-09-25T03:01:53.796583Z",
     "iopub.status.busy": "2025-09-25T03:01:53.796480Z",
     "iopub.status.idle": "2025-09-25T03:01:53.802853Z",
     "shell.execute_reply": "2025-09-25T03:01:53.802471Z",
     "shell.execute_reply.started": "2025-09-25T03:01:53.796571Z"
    },
    "tags": []
   },
   "outputs": [],
   "source": [
    "# assign risk score\n",
    "fire_data_risk_scores = assign_risk_scores(fire_data)"
   ]
  },
  {
   "cell_type": "code",
   "execution_count": 1090,
   "id": "f4679385-1473-4d9d-bce5-f7f9734d78af",
   "metadata": {
    "execution": {
     "iopub.execute_input": "2025-09-25T03:02:44.463870Z",
     "iopub.status.busy": "2025-09-25T03:02:44.463108Z",
     "iopub.status.idle": "2025-09-25T03:02:44.534736Z",
     "shell.execute_reply": "2025-09-25T03:02:44.534379Z",
     "shell.execute_reply.started": "2025-09-25T03:02:44.463803Z"
    },
    "tags": []
   },
   "outputs": [],
   "source": [
    "# include station data in table\n",
    "fire_violations_sub = fire_violations[['Location', 'Station Area']].drop_duplicates()\n",
    "fire_violations_sub = fire_violations_sub.dropna()\n",
    "fire_violations_sub['Location'] = fire_violations_sub['Location'].apply(wkt.loads)\n",
    "fire_data = fire_data.merge(fire_violations_sub, on='Location', how='left')"
   ]
  },
  {
   "cell_type": "code",
   "execution_count": 1091,
   "id": "f672fe25-3b88-4074-a94b-47f89e1ee1b0",
   "metadata": {
    "execution": {
     "iopub.execute_input": "2025-09-25T03:02:45.487743Z",
     "iopub.status.busy": "2025-09-25T03:02:45.485763Z",
     "iopub.status.idle": "2025-09-25T03:02:45.605757Z",
     "shell.execute_reply": "2025-09-25T03:02:45.605436Z",
     "shell.execute_reply.started": "2025-09-25T03:02:45.487658Z"
    },
    "tags": []
   },
   "outputs": [],
   "source": [
    "fire_data.to_csv(os.path.join(base_dir, 'fire_risk.csv'), index=False)"
   ]
  },
  {
   "cell_type": "markdown",
   "id": "10c8578b-e98e-4b70-86cd-9868163111b9",
   "metadata": {},
   "source": [
    "## Results"
   ]
  },
  {
   "cell_type": "code",
   "execution_count": 1100,
   "id": "371bd9f4-8625-4ae3-afa3-d6ea6c5dfb84",
   "metadata": {
    "execution": {
     "iopub.execute_input": "2025-09-25T03:06:13.576849Z",
     "iopub.status.busy": "2025-09-25T03:06:13.576062Z",
     "iopub.status.idle": "2025-09-25T03:06:13.599838Z",
     "shell.execute_reply": "2025-09-25T03:06:13.599389Z",
     "shell.execute_reply.started": "2025-09-25T03:06:13.576775Z"
    },
    "tags": []
   },
   "outputs": [
    {
     "data": {
      "text/html": [
       "<div>\n",
       "<style scoped>\n",
       "    .dataframe tbody tr th:only-of-type {\n",
       "        vertical-align: middle;\n",
       "    }\n",
       "\n",
       "    .dataframe tbody tr th {\n",
       "        vertical-align: top;\n",
       "    }\n",
       "\n",
       "    .dataframe thead th {\n",
       "        text-align: right;\n",
       "    }\n",
       "</style>\n",
       "<table border=\"1\" class=\"dataframe\">\n",
       "  <thead>\n",
       "    <tr style=\"text-align: right;\">\n",
       "      <th></th>\n",
       "      <th>Location</th>\n",
       "      <th>Fire Fatalities</th>\n",
       "      <th>Fire Injuries</th>\n",
       "      <th>High Alarm Incidents</th>\n",
       "      <th>Low Alarm Incidents</th>\n",
       "      <th>Violation Number</th>\n",
       "      <th>Open Violation Number</th>\n",
       "      <th>Address</th>\n",
       "      <th>Parcel Number</th>\n",
       "      <th>Year Property Built</th>\n",
       "      <th>Number of Stories</th>\n",
       "      <th>Number of Units</th>\n",
       "      <th>Property Class Code Definition</th>\n",
       "      <th>risk_score</th>\n",
       "    </tr>\n",
       "  </thead>\n",
       "  <tbody>\n",
       "    <tr>\n",
       "      <th>89</th>\n",
       "      <td>POINT (-122.413644 37.784092)</td>\n",
       "      <td>0.0</td>\n",
       "      <td>0.0</td>\n",
       "      <td>1.0</td>\n",
       "      <td>109.0</td>\n",
       "      <td>0.0</td>\n",
       "      <td>0.0</td>\n",
       "      <td>364 EDDY STREET</td>\n",
       "      <td>0333011</td>\n",
       "      <td>1909.0</td>\n",
       "      <td>5.0</td>\n",
       "      <td>86.0</td>\n",
       "      <td>Hotels - Other</td>\n",
       "      <td>8</td>\n",
       "    </tr>\n",
       "    <tr>\n",
       "      <th>183</th>\n",
       "      <td>POINT (-122.398171 37.796704)</td>\n",
       "      <td>0.0</td>\n",
       "      <td>0.0</td>\n",
       "      <td>1.0</td>\n",
       "      <td>39.0</td>\n",
       "      <td>0.0</td>\n",
       "      <td>0.0</td>\n",
       "      <td>440 DAVIS COURT</td>\n",
       "      <td>0200014</td>\n",
       "      <td>1966.0</td>\n",
       "      <td>22.0</td>\n",
       "      <td>460.0</td>\n",
       "      <td>Apartment 15 Units or more</td>\n",
       "      <td>7</td>\n",
       "    </tr>\n",
       "    <tr>\n",
       "      <th>419</th>\n",
       "      <td>POINT (-122.418823 37.783411)</td>\n",
       "      <td>0.0</td>\n",
       "      <td>0.0</td>\n",
       "      <td>0.0</td>\n",
       "      <td>73.0</td>\n",
       "      <td>0.0</td>\n",
       "      <td>0.0</td>\n",
       "      <td>670 EDDY STREET</td>\n",
       "      <td>0740013</td>\n",
       "      <td>1907.0</td>\n",
       "      <td>4.0</td>\n",
       "      <td>96.0</td>\n",
       "      <td>Residential Hotel &amp; SRO</td>\n",
       "      <td>6</td>\n",
       "    </tr>\n",
       "    <tr>\n",
       "      <th>45</th>\n",
       "      <td>POINT (-122.410263 37.784502)</td>\n",
       "      <td>0.0</td>\n",
       "      <td>0.0</td>\n",
       "      <td>0.0</td>\n",
       "      <td>55.0</td>\n",
       "      <td>0.0</td>\n",
       "      <td>0.0</td>\n",
       "      <td>160 EDDY STREET</td>\n",
       "      <td>0331009</td>\n",
       "      <td>1908.0</td>\n",
       "      <td>4.0</td>\n",
       "      <td>110.0</td>\n",
       "      <td>Hotels - Other</td>\n",
       "      <td>6</td>\n",
       "    </tr>\n",
       "    <tr>\n",
       "      <th>165</th>\n",
       "      <td>POINT (-122.411601 37.785569)</td>\n",
       "      <td>0.0</td>\n",
       "      <td>0.0</td>\n",
       "      <td>0.0</td>\n",
       "      <td>36.0</td>\n",
       "      <td>0.0</td>\n",
       "      <td>0.0</td>\n",
       "      <td>345 TAYLOR STREET</td>\n",
       "      <td>0324002</td>\n",
       "      <td>1926.0</td>\n",
       "      <td>9.0</td>\n",
       "      <td>114.0</td>\n",
       "      <td>Hotels - Other</td>\n",
       "      <td>6</td>\n",
       "    </tr>\n",
       "  </tbody>\n",
       "</table>\n",
       "</div>"
      ],
      "text/plain": [
       "                          Location  Fire Fatalities  Fire Injuries  \\\n",
       "89   POINT (-122.413644 37.784092)              0.0            0.0   \n",
       "183  POINT (-122.398171 37.796704)              0.0            0.0   \n",
       "419  POINT (-122.418823 37.783411)              0.0            0.0   \n",
       "45   POINT (-122.410263 37.784502)              0.0            0.0   \n",
       "165  POINT (-122.411601 37.785569)              0.0            0.0   \n",
       "\n",
       "     High Alarm Incidents  Low Alarm Incidents  Violation Number  \\\n",
       "89                    1.0                109.0               0.0   \n",
       "183                   1.0                 39.0               0.0   \n",
       "419                   0.0                 73.0               0.0   \n",
       "45                    0.0                 55.0               0.0   \n",
       "165                   0.0                 36.0               0.0   \n",
       "\n",
       "     Open Violation Number            Address Parcel Number  \\\n",
       "89                     0.0    364 EDDY STREET       0333011   \n",
       "183                    0.0    440 DAVIS COURT       0200014   \n",
       "419                    0.0    670 EDDY STREET       0740013   \n",
       "45                     0.0    160 EDDY STREET       0331009   \n",
       "165                    0.0  345 TAYLOR STREET       0324002   \n",
       "\n",
       "     Year Property Built  Number of Stories  Number of Units  \\\n",
       "89                1909.0                5.0             86.0   \n",
       "183               1966.0               22.0            460.0   \n",
       "419               1907.0                4.0             96.0   \n",
       "45                1908.0                4.0            110.0   \n",
       "165               1926.0                9.0            114.0   \n",
       "\n",
       "    Property Class Code Definition  risk_score  \n",
       "89                  Hotels - Other           8  \n",
       "183     Apartment 15 Units or more           7  \n",
       "419        Residential Hotel & SRO           6  \n",
       "45                  Hotels - Other           6  \n",
       "165                 Hotels - Other           6  "
      ]
     },
     "execution_count": 1100,
     "metadata": {},
     "output_type": "execute_result"
    }
   ],
   "source": [
    "fire_data_risk_scores.sort_values(by='risk_score', ascending=False).head()"
   ]
  },
  {
   "cell_type": "code",
   "execution_count": 1092,
   "id": "6f44b3f9-d5c5-4aa3-96d5-3eb8289f60d9",
   "metadata": {
    "execution": {
     "iopub.execute_input": "2025-09-25T03:02:48.643972Z",
     "iopub.status.busy": "2025-09-25T03:02:48.643240Z",
     "iopub.status.idle": "2025-09-25T03:02:48.671317Z",
     "shell.execute_reply": "2025-09-25T03:02:48.670767Z",
     "shell.execute_reply.started": "2025-09-25T03:02:48.643905Z"
    },
    "tags": []
   },
   "outputs": [
    {
     "data": {
      "text/html": [
       "<div>\n",
       "<style scoped>\n",
       "    .dataframe tbody tr th:only-of-type {\n",
       "        vertical-align: middle;\n",
       "    }\n",
       "\n",
       "    .dataframe tbody tr th {\n",
       "        vertical-align: top;\n",
       "    }\n",
       "\n",
       "    .dataframe thead th {\n",
       "        text-align: right;\n",
       "    }\n",
       "</style>\n",
       "<table border=\"1\" class=\"dataframe\">\n",
       "  <thead>\n",
       "    <tr style=\"text-align: right;\">\n",
       "      <th></th>\n",
       "      <th>Location</th>\n",
       "      <th>Fire Fatalities</th>\n",
       "      <th>Fire Injuries</th>\n",
       "      <th>High Alarm Incidents</th>\n",
       "      <th>Low Alarm Incidents</th>\n",
       "      <th>Violation Number</th>\n",
       "      <th>Open Violation Number</th>\n",
       "      <th>Address</th>\n",
       "      <th>Parcel Number</th>\n",
       "      <th>Year Property Built</th>\n",
       "      <th>Number of Stories</th>\n",
       "      <th>Number of Units</th>\n",
       "      <th>Property Class Code Definition</th>\n",
       "      <th>risk_score</th>\n",
       "      <th>Station Area</th>\n",
       "    </tr>\n",
       "  </thead>\n",
       "  <tbody>\n",
       "    <tr>\n",
       "      <th>5084</th>\n",
       "      <td>POINT (-122.47617612 37.74531684)</td>\n",
       "      <td>0.0</td>\n",
       "      <td>0.0</td>\n",
       "      <td>0.0</td>\n",
       "      <td>0.0</td>\n",
       "      <td>2.0</td>\n",
       "      <td>1.0</td>\n",
       "      <td>2275  19th Ave</td>\n",
       "      <td>2330006</td>\n",
       "      <td>1927.0</td>\n",
       "      <td>3.0</td>\n",
       "      <td>17.0</td>\n",
       "      <td>Apartment 15 Units or more</td>\n",
       "      <td>2</td>\n",
       "      <td>40</td>\n",
       "    </tr>\n",
       "    <tr>\n",
       "      <th>7151</th>\n",
       "      <td>POINT (-122.47718629 37.7570284)</td>\n",
       "      <td>0.0</td>\n",
       "      <td>0.0</td>\n",
       "      <td>0.0</td>\n",
       "      <td>0.0</td>\n",
       "      <td>0.0</td>\n",
       "      <td>0.0</td>\n",
       "      <td>1601  19th Ave</td>\n",
       "      <td>1924004</td>\n",
       "      <td>2002.0</td>\n",
       "      <td>4.0</td>\n",
       "      <td>120.0</td>\n",
       "      <td>Apartment 4 units or less</td>\n",
       "      <td>2</td>\n",
       "      <td>40</td>\n",
       "    </tr>\n",
       "    <tr>\n",
       "      <th>1734</th>\n",
       "      <td>POINT (-122.48375361 37.74244799)</td>\n",
       "      <td>0.0</td>\n",
       "      <td>0.0</td>\n",
       "      <td>0.0</td>\n",
       "      <td>0.0</td>\n",
       "      <td>4.0</td>\n",
       "      <td>4.0</td>\n",
       "      <td>1633  - 1639 Taraval St</td>\n",
       "      <td>2399041</td>\n",
       "      <td>1991.0</td>\n",
       "      <td>3.0</td>\n",
       "      <td>9.0</td>\n",
       "      <td>Apartment 5 to 14 Units</td>\n",
       "      <td>1</td>\n",
       "      <td>40</td>\n",
       "    </tr>\n",
       "    <tr>\n",
       "      <th>7567</th>\n",
       "      <td>POINT (-122.48465624 37.74356917)</td>\n",
       "      <td>0.0</td>\n",
       "      <td>0.0</td>\n",
       "      <td>0.0</td>\n",
       "      <td>0.0</td>\n",
       "      <td>0.0</td>\n",
       "      <td>0.0</td>\n",
       "      <td>2349  27th Ave</td>\n",
       "      <td>2356002</td>\n",
       "      <td>1926.0</td>\n",
       "      <td>2.0</td>\n",
       "      <td>6.0</td>\n",
       "      <td>Apartment 5 to 14 Units</td>\n",
       "      <td>1</td>\n",
       "      <td>40</td>\n",
       "    </tr>\n",
       "    <tr>\n",
       "      <th>2750</th>\n",
       "      <td>POINT (-122.48410381 37.74292769)</td>\n",
       "      <td>0.0</td>\n",
       "      <td>0.0</td>\n",
       "      <td>0.0</td>\n",
       "      <td>0.0</td>\n",
       "      <td>0.0</td>\n",
       "      <td>0.0</td>\n",
       "      <td>2396  27th Ave</td>\n",
       "      <td>2355013</td>\n",
       "      <td>1956.0</td>\n",
       "      <td>2.0</td>\n",
       "      <td>8.0</td>\n",
       "      <td>Apartment 5 to 14 Units</td>\n",
       "      <td>0</td>\n",
       "      <td>40</td>\n",
       "    </tr>\n",
       "    <tr>\n",
       "      <th>4199</th>\n",
       "      <td>POINT (-122.46698499 37.7535503)</td>\n",
       "      <td>0.0</td>\n",
       "      <td>0.0</td>\n",
       "      <td>0.0</td>\n",
       "      <td>0.0</td>\n",
       "      <td>0.0</td>\n",
       "      <td>0.0</td>\n",
       "      <td>1855  10th Ave</td>\n",
       "      <td>2047057</td>\n",
       "      <td>1961.0</td>\n",
       "      <td>3.0</td>\n",
       "      <td>18.0</td>\n",
       "      <td>Apartment 15 Units or more</td>\n",
       "      <td>0</td>\n",
       "      <td>40</td>\n",
       "    </tr>\n",
       "    <tr>\n",
       "      <th>4702</th>\n",
       "      <td>POINT (-122.4762045 37.75581031)</td>\n",
       "      <td>0.0</td>\n",
       "      <td>0.0</td>\n",
       "      <td>0.0</td>\n",
       "      <td>0.0</td>\n",
       "      <td>0.0</td>\n",
       "      <td>0.0</td>\n",
       "      <td>1710  19th Ave</td>\n",
       "      <td>2031026</td>\n",
       "      <td>1965.0</td>\n",
       "      <td>3.0</td>\n",
       "      <td>11.0</td>\n",
       "      <td>Apartment 5 to 14 Units</td>\n",
       "      <td>0</td>\n",
       "      <td>40</td>\n",
       "    </tr>\n",
       "    <tr>\n",
       "      <th>7383</th>\n",
       "      <td>POINT (-122.47973927 37.74262442)</td>\n",
       "      <td>0.0</td>\n",
       "      <td>0.0</td>\n",
       "      <td>0.0</td>\n",
       "      <td>0.0</td>\n",
       "      <td>0.0</td>\n",
       "      <td>0.0</td>\n",
       "      <td>1255  Taraval St</td>\n",
       "      <td>2403033</td>\n",
       "      <td>1961.0</td>\n",
       "      <td>3.0</td>\n",
       "      <td>18.0</td>\n",
       "      <td>Apartment 4 units or less</td>\n",
       "      <td>0</td>\n",
       "      <td>40</td>\n",
       "    </tr>\n",
       "  </tbody>\n",
       "</table>\n",
       "</div>"
      ],
      "text/plain": [
       "                               Location  Fire Fatalities  Fire Injuries  \\\n",
       "5084  POINT (-122.47617612 37.74531684)              0.0            0.0   \n",
       "7151   POINT (-122.47718629 37.7570284)              0.0            0.0   \n",
       "1734  POINT (-122.48375361 37.74244799)              0.0            0.0   \n",
       "7567  POINT (-122.48465624 37.74356917)              0.0            0.0   \n",
       "2750  POINT (-122.48410381 37.74292769)              0.0            0.0   \n",
       "4199   POINT (-122.46698499 37.7535503)              0.0            0.0   \n",
       "4702   POINT (-122.4762045 37.75581031)              0.0            0.0   \n",
       "7383  POINT (-122.47973927 37.74262442)              0.0            0.0   \n",
       "\n",
       "      High Alarm Incidents  Low Alarm Incidents  Violation Number  \\\n",
       "5084                   0.0                  0.0               2.0   \n",
       "7151                   0.0                  0.0               0.0   \n",
       "1734                   0.0                  0.0               4.0   \n",
       "7567                   0.0                  0.0               0.0   \n",
       "2750                   0.0                  0.0               0.0   \n",
       "4199                   0.0                  0.0               0.0   \n",
       "4702                   0.0                  0.0               0.0   \n",
       "7383                   0.0                  0.0               0.0   \n",
       "\n",
       "      Open Violation Number                  Address Parcel Number  \\\n",
       "5084                    1.0           2275  19th Ave       2330006   \n",
       "7151                    0.0           1601  19th Ave       1924004   \n",
       "1734                    4.0  1633  - 1639 Taraval St       2399041   \n",
       "7567                    0.0           2349  27th Ave       2356002   \n",
       "2750                    0.0           2396  27th Ave       2355013   \n",
       "4199                    0.0           1855  10th Ave       2047057   \n",
       "4702                    0.0           1710  19th Ave       2031026   \n",
       "7383                    0.0         1255  Taraval St       2403033   \n",
       "\n",
       "      Year Property Built  Number of Stories  Number of Units  \\\n",
       "5084               1927.0                3.0             17.0   \n",
       "7151               2002.0                4.0            120.0   \n",
       "1734               1991.0                3.0              9.0   \n",
       "7567               1926.0                2.0              6.0   \n",
       "2750               1956.0                2.0              8.0   \n",
       "4199               1961.0                3.0             18.0   \n",
       "4702               1965.0                3.0             11.0   \n",
       "7383               1961.0                3.0             18.0   \n",
       "\n",
       "     Property Class Code Definition  risk_score Station Area  \n",
       "5084     Apartment 15 Units or more           2           40  \n",
       "7151      Apartment 4 units or less           2           40  \n",
       "1734        Apartment 5 to 14 Units           1           40  \n",
       "7567        Apartment 5 to 14 Units           1           40  \n",
       "2750        Apartment 5 to 14 Units           0           40  \n",
       "4199     Apartment 15 Units or more           0           40  \n",
       "4702        Apartment 5 to 14 Units           0           40  \n",
       "7383      Apartment 4 units or less           0           40  "
      ]
     },
     "execution_count": 1092,
     "metadata": {},
     "output_type": "execute_result"
    }
   ],
   "source": [
    "# examining risk scores of properties in Fire Station Area 40\n",
    "fire_data[fire_data['Station Area']=='40'].sort_values(by='risk_score', ascending=False)"
   ]
  },
  {
   "cell_type": "code",
   "execution_count": 1093,
   "id": "d9d9afa6-83f2-4d5a-9f64-19d12610ad4d",
   "metadata": {
    "execution": {
     "iopub.execute_input": "2025-09-25T03:02:50.985093Z",
     "iopub.status.busy": "2025-09-25T03:02:50.984333Z",
     "iopub.status.idle": "2025-09-25T03:02:50.999460Z",
     "shell.execute_reply": "2025-09-25T03:02:50.997852Z",
     "shell.execute_reply.started": "2025-09-25T03:02:50.985024Z"
    },
    "tags": []
   },
   "outputs": [
    {
     "data": {
      "text/plain": [
       "risk_score\n",
       "1    6844\n",
       "2    2277\n",
       "0    2233\n",
       "3     816\n",
       "4     354\n",
       "5      80\n",
       "6      34\n",
       "8       1\n",
       "7       1\n",
       "Name: count, dtype: int64"
      ]
     },
     "execution_count": 1093,
     "metadata": {},
     "output_type": "execute_result"
    }
   ],
   "source": [
    "fire_data['risk_score'].value_counts()"
   ]
  },
  {
   "cell_type": "markdown",
   "id": "ed82115f-4505-42f7-8e5f-725fb847e2c0",
   "metadata": {},
   "source": [
    "# Predicting Future Violations"
   ]
  },
  {
   "cell_type": "code",
   "execution_count": null,
   "id": "7d41fbe5-8d46-4bce-9de7-051cd20e7491",
   "metadata": {
    "tags": []
   },
   "outputs": [],
   "source": [
    "base_dir = '/Users/csowers/Documents/Job prep/DataSF'\n",
    "\n",
    "fire_incidents = pd.read_csv(os.path.join(base_dir, 'Fire_Incidents_20250923.csv'))\n",
    "fire_inspections = pd.read_csv(os.path.join(base_dir, 'Fire_Inspections_20250923.csv'))\n",
    "fire_violations = pd.read_csv(os.path.join(base_dir, 'Fire_Violations_20250923.csv'))\n",
    "\n",
    "fire_incidents = fire_incidents.rename(columns={'point': 'Location'})\n",
    "fire_inspections = fire_inspections.rename(columns={'location': 'Location'})"
   ]
  },
  {
   "cell_type": "code",
   "execution_count": 1483,
   "id": "f573367e-5d52-4a08-8077-0f7bc9729e61",
   "metadata": {
    "execution": {
     "iopub.execute_input": "2025-09-25T05:51:33.161563Z",
     "iopub.status.busy": "2025-09-25T05:51:33.160785Z",
     "iopub.status.idle": "2025-09-25T05:51:33.576868Z",
     "shell.execute_reply": "2025-09-25T05:51:33.576538Z",
     "shell.execute_reply.started": "2025-09-25T05:51:33.161505Z"
    },
    "tags": []
   },
   "outputs": [],
   "source": [
    "current_year = 2024\n",
    "time_range = 5\n",
    "fire_incidents = fire_incidents.rename(columns={'point': 'Location'})\n",
    "fire_incidents['Incident Date'] = pd.to_datetime(fire_incidents['Incident Date'])\n",
    "fire_incidents = fire_incidents[fire_incidents['Incident Date'].dt.year>= (current_year-time_range)]\n",
    "\n",
    "# pull out year of violation\n",
    "fire_incidents['Year'] = fire_incidents['Incident Date'].dt.year\n",
    "\n",
    "fire_incident_stats = compute_fire_incident_stats(fire_incidents, per_year=True)"
   ]
  },
  {
   "cell_type": "code",
   "execution_count": 1484,
   "id": "b606aa18-08de-4278-913b-a4ee7e6a7584",
   "metadata": {
    "execution": {
     "iopub.execute_input": "2025-09-25T05:51:33.577748Z",
     "iopub.status.busy": "2025-09-25T05:51:33.577648Z",
     "iopub.status.idle": "2025-09-25T05:51:33.609628Z",
     "shell.execute_reply": "2025-09-25T05:51:33.609309Z",
     "shell.execute_reply.started": "2025-09-25T05:51:33.577735Z"
    },
    "tags": []
   },
   "outputs": [],
   "source": [
    "fire_violations_risk = fire_violations.copy()\n",
    "fire_violations_risk['Violation Date'] = pd.to_datetime(fire_violations_risk['Violation Date'])\n",
    "fire_violations_risk = fire_violations_risk[fire_violations_risk['Violation Date'].dt.year>= (current_year-time_range+1)]\n",
    "\n",
    "# pull out year of violation\n",
    "fire_violations_risk['Year'] = fire_violations_risk['Violation Date'].dt.year\n",
    "\n",
    "# generate stats per year\n",
    "fire_violations_stats = compute_fire_violation_stats(fire_violations_risk, per_year=True)"
   ]
  },
  {
   "cell_type": "code",
   "execution_count": 1485,
   "id": "7c177396-15d3-4d2a-8a56-a92e077302f0",
   "metadata": {
    "execution": {
     "iopub.execute_input": "2025-09-25T05:51:33.626980Z",
     "iopub.status.busy": "2025-09-25T05:51:33.626794Z",
     "iopub.status.idle": "2025-09-25T05:51:33.691548Z",
     "shell.execute_reply": "2025-09-25T05:51:33.691228Z",
     "shell.execute_reply.started": "2025-09-25T05:51:33.626964Z"
    },
    "tags": []
   },
   "outputs": [],
   "source": [
    "# combine fire features \n",
    "fire_data = pd.merge(fire_incident_stats, fire_violations_stats, on=['Location', 'Year'], how='outer')\n",
    "fire_data = fire_data.fillna(0)"
   ]
  },
  {
   "cell_type": "code",
   "execution_count": 1486,
   "id": "ef7a3378-f7d2-445a-aa4c-1a9909e865fe",
   "metadata": {
    "execution": {
     "iopub.execute_input": "2025-09-25T05:51:34.028730Z",
     "iopub.status.busy": "2025-09-25T05:51:34.028242Z",
     "iopub.status.idle": "2025-09-25T05:51:34.631780Z",
     "shell.execute_reply": "2025-09-25T05:51:34.631429Z",
     "shell.execute_reply.started": "2025-09-25T05:51:34.028695Z"
    },
    "tags": []
   },
   "outputs": [],
   "source": [
    "# add property data\n",
    "fire_data['Location'] = fire_data['Location'].apply(wkt.loads)\n",
    "fire_data = fire_data.merge(point_parcel_map, on='Location', how='right')\n",
    "fire_data = fire_data.fillna(0)\n",
    "\n",
    "fire_data = fire_data.merge(R2_properties_parcel[['Parcel Number', 'Year Property Built', 'Number of Stories', 'Number of Units', 'Property Class Code Definition']], on='Parcel Number', how='left')\n",
    "fire_data.to_csv(os.path.join(base_dir, 'fire_risk_yearly.csv'))"
   ]
  },
  {
   "cell_type": "code",
   "execution_count": 1522,
   "id": "ecb64d5a-19c2-416c-bcc9-64234ff955a0",
   "metadata": {
    "execution": {
     "iopub.execute_input": "2025-09-25T06:44:47.325491Z",
     "iopub.status.busy": "2025-09-25T06:44:47.324458Z",
     "iopub.status.idle": "2025-09-25T06:44:47.437255Z",
     "shell.execute_reply": "2025-09-25T06:44:47.436882Z",
     "shell.execute_reply.started": "2025-09-25T06:44:47.325425Z"
    },
    "tags": []
   },
   "outputs": [],
   "source": [
    "# create target variable aka violation next year\n",
    "fire_data['Location'] = fire_data['Location'].astype(str)\n",
    "fire_data = fire_data.sort_values(by=[\"Location\", \"Year\"])\n",
    "\n",
    "fire_data_next = fire_data[[\"Location\", \"Year\", \"Violation Number\"]].copy()\n",
    "fire_data_next[\"Year\"] = fire_data_next[\"Year\"] - 1   # shift year down to match \"current\" year\n",
    "fire_data_next = fire_data_next.rename(columns={\"Violation Number\": \"violation_next_yr\"})\n",
    "fire_data_merged = fire_data.merge(fire_data_next, on=[\"Location\", \"Year\"], how=\"left\")\n",
    "\n",
    "# binarize and drop na\n",
    "fire_data_merged[\"violation_next_yr_binary\"] = (fire_data_merged[\"violation_next_yr\"] > 0).astype(int)\n",
    "fire_data_merged = fire_data_merged.dropna(subset=[\"violation_next_yr_binary\"]).copy()\n",
    "\n",
    "\n",
    "features = [\n",
    "    \"Fire Fatalities\", \"Fire Injuries\",\n",
    "    \"High Alarm Incidents\", \"Low Alarm Incidents\",\n",
    "    \"Violation Number\", \"Open Violation Number\",\n",
    "    \"Year Property Built\", \"Number of Stories\", \"Number of Units\"\n",
    "]\n",
    "\n",
    "log_reg, y_test, y_pred, y_proba = classify_property_violations(\n",
    "    fire_data_merged, target_var=\"violation_next_yr_binary\", features=features, threshold = 0.95)"
   ]
  },
  {
   "cell_type": "markdown",
   "id": "c3a8b9cf-fd85-465f-8e41-5434e55a3152",
   "metadata": {},
   "source": [
    "## Results"
   ]
  },
  {
   "cell_type": "code",
   "execution_count": 1528,
   "id": "a18a3a7e-2fe1-4eb4-a2bd-7450271bacf7",
   "metadata": {
    "execution": {
     "iopub.execute_input": "2025-09-25T06:47:20.351531Z",
     "iopub.status.busy": "2025-09-25T06:47:20.350605Z",
     "iopub.status.idle": "2025-09-25T06:47:20.375015Z",
     "shell.execute_reply": "2025-09-25T06:47:20.374339Z",
     "shell.execute_reply.started": "2025-09-25T06:47:20.351461Z"
    },
    "tags": []
   },
   "outputs": [
    {
     "name": "stdout",
     "output_type": "stream",
     "text": [
      "Accuracy: 0.9353562005277045\n",
      "ROC AUC: 0.9557171437365343\n",
      "Confusion Matrix:\n",
      " [[679  43]\n",
      " [  6  30]]\n",
      "\n",
      "Classification Report:\n",
      "               precision    recall  f1-score   support\n",
      "\n",
      "           0       0.99      0.94      0.97       722\n",
      "           1       0.41      0.83      0.55        36\n",
      "\n",
      "    accuracy                           0.94       758\n",
      "   macro avg       0.70      0.89      0.76       758\n",
      "weighted avg       0.96      0.94      0.95       758\n",
      "\n"
     ]
    }
   ],
   "source": [
    "from sklearn.metrics import accuracy_score, roc_auc_score, confusion_matrix, classification_report\n",
    "\n",
    "acc = accuracy_score(y_test, y_pred)\n",
    "roc = roc_auc_score(y_test, y_proba)\n",
    "cm = confusion_matrix(y_test, y_pred)\n",
    "report = classification_report(y_test, y_pred)\n",
    "\n",
    "print(\"Accuracy:\", acc)\n",
    "print(\"ROC AUC:\", roc)\n",
    "print(\"Confusion Matrix:\\n\", cm)\n",
    "print(\"\\nClassification Report:\\n\", report)\n"
   ]
  },
  {
   "cell_type": "code",
   "execution_count": 1530,
   "id": "e59c137b-ed37-482d-bb31-b062b09a1dba",
   "metadata": {
    "execution": {
     "iopub.execute_input": "2025-09-25T06:49:41.640646Z",
     "iopub.status.busy": "2025-09-25T06:49:41.639512Z",
     "iopub.status.idle": "2025-09-25T06:49:41.735499Z",
     "shell.execute_reply": "2025-09-25T06:49:41.735047Z",
     "shell.execute_reply.started": "2025-09-25T06:49:41.640558Z"
    },
    "tags": []
   },
   "outputs": [
    {
     "data": {
      "image/png": "[encoded data removed]",
      "text/plain": [
       "<Figure size 600x500 with 2 Axes>"
      ]
     },
     "metadata": {},
     "output_type": "display_data"
    }
   ],
   "source": [
    "class_labels = ['No Violations', 'Yes Violations'] # Replace with your actual class labels\n",
    "plt.figure(figsize=(6, 5))\n",
    "sns.heatmap(cm, annot=True, fmt='d', cmap='Blues', xticklabels=class_labels, yticklabels=class_labels)\n",
    "plt.xlabel('Predicted Label')\n",
    "plt.ylabel('True Label')\n",
    "plt.title('Confusion Matrix')\n",
    "plt.show()"
   ]
  },
  {
   "cell_type": "code",
   "execution_count": 1525,
   "id": "d03db235-19aa-4e21-9b75-1736682f3f5f",
   "metadata": {
    "execution": {
     "iopub.execute_input": "2025-09-25T06:45:15.039798Z",
     "iopub.status.busy": "2025-09-25T06:45:15.038746Z",
     "iopub.status.idle": "2025-09-25T06:45:15.056110Z",
     "shell.execute_reply": "2025-09-25T06:45:15.055102Z",
     "shell.execute_reply.started": "2025-09-25T06:45:15.039737Z"
    },
    "tags": []
   },
   "outputs": [
    {
     "name": "stdout",
     "output_type": "stream",
     "text": [
      "                 feature  coefficient\n",
      "5  Open Violation Number     8.571249\n",
      "3    Low Alarm Incidents    -1.072660\n",
      "4       Violation Number     0.142578\n",
      "8        Number of Units     0.005943\n",
      "2   High Alarm Incidents    -0.003387\n",
      "7      Number of Stories     0.003365\n",
      "6    Year Property Built     0.001295\n",
      "0        Fire Fatalities     0.000000\n",
      "1          Fire Injuries     0.000000\n"
     ]
    }
   ],
   "source": [
    "feature_rank = pd.DataFrame({\n",
    "    'feature': features,\n",
    "    'coefficient': log_reg.coef_[0]\n",
    "}).sort_values(by='coefficient', key=abs, ascending=False)\n",
    "\n",
    "print(feature_rank)"
   ]
  },
  {
   "cell_type": "markdown",
   "id": "42f28aa0-44e5-4482-9de5-40de18360b63",
   "metadata": {},
   "source": [
    "# K-means Clustering"
   ]
  },
  {
   "cell_type": "code",
   "execution_count": 1535,
   "id": "027dda4f-75fe-4384-a889-53b3eb0577b4",
   "metadata": {
    "execution": {
     "iopub.execute_input": "2025-09-25T08:02:55.638509Z",
     "iopub.status.busy": "2025-09-25T08:02:55.638028Z",
     "iopub.status.idle": "2025-09-25T08:02:55.682455Z",
     "shell.execute_reply": "2025-09-25T08:02:55.682050Z",
     "shell.execute_reply.started": "2025-09-25T08:02:55.638472Z"
    },
    "tags": []
   },
   "outputs": [],
   "source": [
    "X = pd.read_csv('/Users/csowers/Documents/Job prep/DataSF/fire_risk.csv')\n",
    "X = X.dropna()\n",
    "\n",
    "# drop outlier, likely reporting error\n",
    "X = X[X['Number of Stories']<100]\n",
    "X_adj = X.drop(columns=['Location', 'Address', 'Parcel Number', 'Property Class Code Definition', 'risk_score'])"
   ]
  },
  {
   "cell_type": "code",
   "execution_count": 1543,
   "id": "7cbdab03-4126-48c0-9dfa-3b7326e90376",
   "metadata": {
    "execution": {
     "iopub.execute_input": "2025-09-25T08:05:25.566450Z",
     "iopub.status.busy": "2025-09-25T08:05:25.565505Z",
     "iopub.status.idle": "2025-09-25T08:05:25.591588Z",
     "shell.execute_reply": "2025-09-25T08:05:25.590862Z",
     "shell.execute_reply.started": "2025-09-25T08:05:25.566389Z"
    },
    "tags": []
   },
   "outputs": [
    {
     "data": {
      "text/html": [
       "<div>\n",
       "<style scoped>\n",
       "    .dataframe tbody tr th:only-of-type {\n",
       "        vertical-align: middle;\n",
       "    }\n",
       "\n",
       "    .dataframe tbody tr th {\n",
       "        vertical-align: top;\n",
       "    }\n",
       "\n",
       "    .dataframe thead th {\n",
       "        text-align: right;\n",
       "    }\n",
       "</style>\n",
       "<table border=\"1\" class=\"dataframe\">\n",
       "  <thead>\n",
       "    <tr style=\"text-align: right;\">\n",
       "      <th></th>\n",
       "      <th>Location</th>\n",
       "      <th>Fire Fatalities</th>\n",
       "      <th>Fire Injuries</th>\n",
       "      <th>High Alarm Incidents</th>\n",
       "      <th>Low Alarm Incidents</th>\n",
       "      <th>Violation Number</th>\n",
       "      <th>Open Violation Number</th>\n",
       "      <th>Address</th>\n",
       "      <th>Parcel Number</th>\n",
       "      <th>Year Property Built</th>\n",
       "      <th>Number of Stories</th>\n",
       "      <th>Number of Units</th>\n",
       "      <th>Property Class Code Definition</th>\n",
       "      <th>risk_score</th>\n",
       "      <th>Station Area</th>\n",
       "      <th>cluster</th>\n",
       "    </tr>\n",
       "  </thead>\n",
       "  <tbody>\n",
       "    <tr>\n",
       "      <th>1491</th>\n",
       "      <td>POINT (-122.42811091 37.79735732)</td>\n",
       "      <td>0.0</td>\n",
       "      <td>0.0</td>\n",
       "      <td>0.0</td>\n",
       "      <td>0.0</td>\n",
       "      <td>14.0</td>\n",
       "      <td>1.0</td>\n",
       "      <td>1770  Green St</td>\n",
       "      <td>0544005</td>\n",
       "      <td>1931.0</td>\n",
       "      <td>6.0</td>\n",
       "      <td>26.0</td>\n",
       "      <td>Apartment 15 Units or more</td>\n",
       "      <td>3</td>\n",
       "      <td>16.0</td>\n",
       "      <td>1</td>\n",
       "    </tr>\n",
       "    <tr>\n",
       "      <th>1492</th>\n",
       "      <td>POINT (-122.4137939 37.78801998)</td>\n",
       "      <td>0.0</td>\n",
       "      <td>0.0</td>\n",
       "      <td>0.0</td>\n",
       "      <td>0.0</td>\n",
       "      <td>2.0</td>\n",
       "      <td>1.0</td>\n",
       "      <td>729  Jones St</td>\n",
       "      <td>0299002</td>\n",
       "      <td>1910.0</td>\n",
       "      <td>5.0</td>\n",
       "      <td>79.0</td>\n",
       "      <td>Apartment 15 Units or more</td>\n",
       "      <td>4</td>\n",
       "      <td>3.0</td>\n",
       "      <td>1</td>\n",
       "    </tr>\n",
       "    <tr>\n",
       "      <th>1493</th>\n",
       "      <td>POINT (-122.4479079 37.78473038)</td>\n",
       "      <td>0.0</td>\n",
       "      <td>0.0</td>\n",
       "      <td>0.0</td>\n",
       "      <td>0.0</td>\n",
       "      <td>1.0</td>\n",
       "      <td>1.0</td>\n",
       "      <td>59  Lupine Ave</td>\n",
       "      <td>1057024</td>\n",
       "      <td>1962.0</td>\n",
       "      <td>6.0</td>\n",
       "      <td>22.0</td>\n",
       "      <td>Apartment 15 Units or more</td>\n",
       "      <td>2</td>\n",
       "      <td>10.0</td>\n",
       "      <td>1</td>\n",
       "    </tr>\n",
       "    <tr>\n",
       "      <th>1494</th>\n",
       "      <td>POINT (-122.42303418 37.79934218)</td>\n",
       "      <td>0.0</td>\n",
       "      <td>0.0</td>\n",
       "      <td>0.0</td>\n",
       "      <td>0.0</td>\n",
       "      <td>2.0</td>\n",
       "      <td>1.0</td>\n",
       "      <td>1455  Filbert St</td>\n",
       "      <td>0526022</td>\n",
       "      <td>1960.0</td>\n",
       "      <td>3.0</td>\n",
       "      <td>36.0</td>\n",
       "      <td>Apartment 15 Units or more</td>\n",
       "      <td>2</td>\n",
       "      <td>41.0</td>\n",
       "      <td>0</td>\n",
       "    </tr>\n",
       "    <tr>\n",
       "      <th>1495</th>\n",
       "      <td>POINT (-122.42095842 37.75835142)</td>\n",
       "      <td>0.0</td>\n",
       "      <td>0.0</td>\n",
       "      <td>0.0</td>\n",
       "      <td>0.0</td>\n",
       "      <td>6.0</td>\n",
       "      <td>4.0</td>\n",
       "      <td>901  - 909 Valencia St</td>\n",
       "      <td>3609042</td>\n",
       "      <td>1908.0</td>\n",
       "      <td>4.0</td>\n",
       "      <td>28.0</td>\n",
       "      <td>Apartment 15 Units or more</td>\n",
       "      <td>4</td>\n",
       "      <td>7.0</td>\n",
       "      <td>1</td>\n",
       "    </tr>\n",
       "    <tr>\n",
       "      <th>...</th>\n",
       "      <td>...</td>\n",
       "      <td>...</td>\n",
       "      <td>...</td>\n",
       "      <td>...</td>\n",
       "      <td>...</td>\n",
       "      <td>...</td>\n",
       "      <td>...</td>\n",
       "      <td>...</td>\n",
       "      <td>...</td>\n",
       "      <td>...</td>\n",
       "      <td>...</td>\n",
       "      <td>...</td>\n",
       "      <td>...</td>\n",
       "      <td>...</td>\n",
       "      <td>...</td>\n",
       "      <td>...</td>\n",
       "    </tr>\n",
       "    <tr>\n",
       "      <th>12588</th>\n",
       "      <td>POINT (-122.42296616 37.75893539)</td>\n",
       "      <td>0.0</td>\n",
       "      <td>0.0</td>\n",
       "      <td>0.0</td>\n",
       "      <td>0.0</td>\n",
       "      <td>0.0</td>\n",
       "      <td>0.0</td>\n",
       "      <td>172  - 182 Linda St</td>\n",
       "      <td>3597046</td>\n",
       "      <td>1907.0</td>\n",
       "      <td>3.0</td>\n",
       "      <td>6.0</td>\n",
       "      <td>Apartment 4 units or less</td>\n",
       "      <td>1</td>\n",
       "      <td>7.0</td>\n",
       "      <td>1</td>\n",
       "    </tr>\n",
       "    <tr>\n",
       "      <th>12593</th>\n",
       "      <td>POINT (-122.44316123 37.75333791)</td>\n",
       "      <td>0.0</td>\n",
       "      <td>0.0</td>\n",
       "      <td>0.0</td>\n",
       "      <td>0.0</td>\n",
       "      <td>0.0</td>\n",
       "      <td>0.0</td>\n",
       "      <td>833  Corbett Ave</td>\n",
       "      <td>2778034</td>\n",
       "      <td>1967.0</td>\n",
       "      <td>5.0</td>\n",
       "      <td>5.0</td>\n",
       "      <td>Apartment 4 units or less</td>\n",
       "      <td>1</td>\n",
       "      <td>24.0</td>\n",
       "      <td>0</td>\n",
       "    </tr>\n",
       "    <tr>\n",
       "      <th>12606</th>\n",
       "      <td>POINT (-122.44914246 37.78188823)</td>\n",
       "      <td>0.0</td>\n",
       "      <td>0.0</td>\n",
       "      <td>0.0</td>\n",
       "      <td>0.0</td>\n",
       "      <td>0.0</td>\n",
       "      <td>0.0</td>\n",
       "      <td>2801  - 2807 Geary Blvd</td>\n",
       "      <td>1091001</td>\n",
       "      <td>1900.0</td>\n",
       "      <td>2.0</td>\n",
       "      <td>3.0</td>\n",
       "      <td>Flat &amp; Store 4 units or less</td>\n",
       "      <td>1</td>\n",
       "      <td>10.0</td>\n",
       "      <td>1</td>\n",
       "    </tr>\n",
       "    <tr>\n",
       "      <th>12617</th>\n",
       "      <td>POINT (-122.43230557 37.77442262)</td>\n",
       "      <td>0.0</td>\n",
       "      <td>0.0</td>\n",
       "      <td>0.0</td>\n",
       "      <td>0.0</td>\n",
       "      <td>0.0</td>\n",
       "      <td>0.0</td>\n",
       "      <td>542  - 546 Steiner St</td>\n",
       "      <td>0827021</td>\n",
       "      <td>1900.0</td>\n",
       "      <td>3.0</td>\n",
       "      <td>6.0</td>\n",
       "      <td>Apartment 5 to 14 Units</td>\n",
       "      <td>1</td>\n",
       "      <td>5.0</td>\n",
       "      <td>1</td>\n",
       "    </tr>\n",
       "    <tr>\n",
       "      <th>12619</th>\n",
       "      <td>POINT (-122.41329024 37.79393903)</td>\n",
       "      <td>0.0</td>\n",
       "      <td>0.0</td>\n",
       "      <td>0.0</td>\n",
       "      <td>0.0</td>\n",
       "      <td>0.0</td>\n",
       "      <td>0.0</td>\n",
       "      <td>1237  - 1241 Taylor St</td>\n",
       "      <td>0214003</td>\n",
       "      <td>1908.0</td>\n",
       "      <td>2.0</td>\n",
       "      <td>3.0</td>\n",
       "      <td>Flats &amp; Duplex</td>\n",
       "      <td>1</td>\n",
       "      <td>2.0</td>\n",
       "      <td>1</td>\n",
       "    </tr>\n",
       "  </tbody>\n",
       "</table>\n",
       "<p>3023 rows × 16 columns</p>\n",
       "</div>"
      ],
      "text/plain": [
       "                                Location  Fire Fatalities  Fire Injuries  \\\n",
       "1491   POINT (-122.42811091 37.79735732)              0.0            0.0   \n",
       "1492    POINT (-122.4137939 37.78801998)              0.0            0.0   \n",
       "1493    POINT (-122.4479079 37.78473038)              0.0            0.0   \n",
       "1494   POINT (-122.42303418 37.79934218)              0.0            0.0   \n",
       "1495   POINT (-122.42095842 37.75835142)              0.0            0.0   \n",
       "...                                  ...              ...            ...   \n",
       "12588  POINT (-122.42296616 37.75893539)              0.0            0.0   \n",
       "12593  POINT (-122.44316123 37.75333791)              0.0            0.0   \n",
       "12606  POINT (-122.44914246 37.78188823)              0.0            0.0   \n",
       "12617  POINT (-122.43230557 37.77442262)              0.0            0.0   \n",
       "12619  POINT (-122.41329024 37.79393903)              0.0            0.0   \n",
       "\n",
       "       High Alarm Incidents  Low Alarm Incidents  Violation Number  \\\n",
       "1491                    0.0                  0.0              14.0   \n",
       "1492                    0.0                  0.0               2.0   \n",
       "1493                    0.0                  0.0               1.0   \n",
       "1494                    0.0                  0.0               2.0   \n",
       "1495                    0.0                  0.0               6.0   \n",
       "...                     ...                  ...               ...   \n",
       "12588                   0.0                  0.0               0.0   \n",
       "12593                   0.0                  0.0               0.0   \n",
       "12606                   0.0                  0.0               0.0   \n",
       "12617                   0.0                  0.0               0.0   \n",
       "12619                   0.0                  0.0               0.0   \n",
       "\n",
       "       Open Violation Number                  Address Parcel Number  \\\n",
       "1491                     1.0           1770  Green St       0544005   \n",
       "1492                     1.0            729  Jones St       0299002   \n",
       "1493                     1.0           59  Lupine Ave       1057024   \n",
       "1494                     1.0         1455  Filbert St       0526022   \n",
       "1495                     4.0   901  - 909 Valencia St       3609042   \n",
       "...                      ...                      ...           ...   \n",
       "12588                    0.0      172  - 182 Linda St       3597046   \n",
       "12593                    0.0         833  Corbett Ave       2778034   \n",
       "12606                    0.0  2801  - 2807 Geary Blvd       1091001   \n",
       "12617                    0.0    542  - 546 Steiner St       0827021   \n",
       "12619                    0.0   1237  - 1241 Taylor St       0214003   \n",
       "\n",
       "       Year Property Built  Number of Stories  Number of Units  \\\n",
       "1491                1931.0                6.0             26.0   \n",
       "1492                1910.0                5.0             79.0   \n",
       "1493                1962.0                6.0             22.0   \n",
       "1494                1960.0                3.0             36.0   \n",
       "1495                1908.0                4.0             28.0   \n",
       "...                    ...                ...              ...   \n",
       "12588               1907.0                3.0              6.0   \n",
       "12593               1967.0                5.0              5.0   \n",
       "12606               1900.0                2.0              3.0   \n",
       "12617               1900.0                3.0              6.0   \n",
       "12619               1908.0                2.0              3.0   \n",
       "\n",
       "      Property Class Code Definition  risk_score  Station Area  cluster  \n",
       "1491      Apartment 15 Units or more           3          16.0        1  \n",
       "1492      Apartment 15 Units or more           4           3.0        1  \n",
       "1493      Apartment 15 Units or more           2          10.0        1  \n",
       "1494      Apartment 15 Units or more           2          41.0        0  \n",
       "1495      Apartment 15 Units or more           4           7.0        1  \n",
       "...                              ...         ...           ...      ...  \n",
       "12588      Apartment 4 units or less           1           7.0        1  \n",
       "12593      Apartment 4 units or less           1          24.0        0  \n",
       "12606   Flat & Store 4 units or less           1          10.0        1  \n",
       "12617        Apartment 5 to 14 Units           1           5.0        1  \n",
       "12619                 Flats & Duplex           1           2.0        1  \n",
       "\n",
       "[3023 rows x 16 columns]"
      ]
     },
     "execution_count": 1543,
     "metadata": {},
     "output_type": "execute_result"
    }
   ],
   "source": [
    "X"
   ]
  },
  {
   "cell_type": "code",
   "execution_count": 1536,
   "id": "2dd9c1c6-d777-4cdc-8c1e-e66b3ca2819f",
   "metadata": {
    "execution": {
     "iopub.execute_input": "2025-09-25T08:02:57.989868Z",
     "iopub.status.busy": "2025-09-25T08:02:57.989117Z",
     "iopub.status.idle": "2025-09-25T08:02:58.360115Z",
     "shell.execute_reply": "2025-09-25T08:02:58.357237Z",
     "shell.execute_reply.started": "2025-09-25T08:02:57.989802Z"
    },
    "tags": []
   },
   "outputs": [],
   "source": [
    "from sklearn.preprocessing import StandardScaler\n",
    "X_scaled = StandardScaler().fit_transform(X_adj)\n",
    "\n",
    "from sklearn.cluster import KMeans\n",
    "\n",
    "kmeans = KMeans(n_clusters=3, random_state=42)\n",
    "clusters = kmeans.fit_predict(X_scaled)\n",
    "X[\"cluster\"] = clusters"
   ]
  },
  {
   "cell_type": "code",
   "execution_count": 1549,
   "id": "634c0d95-fece-435d-a792-78bbe9ddea32",
   "metadata": {
    "execution": {
     "iopub.execute_input": "2025-09-25T08:09:40.653854Z",
     "iopub.status.busy": "2025-09-25T08:09:40.652661Z",
     "iopub.status.idle": "2025-09-25T08:09:40.673966Z",
     "shell.execute_reply": "2025-09-25T08:09:40.670252Z",
     "shell.execute_reply.started": "2025-09-25T08:09:40.653773Z"
    },
    "tags": []
   },
   "outputs": [
    {
     "data": {
      "image/png": "[encoded data removed]",
      "text/plain": [
       "<IPython.core.display.Image object>"
      ]
     },
     "execution_count": 1549,
     "metadata": {},
     "output_type": "execute_result"
    }
   ],
   "source": [
    "import matplotlib.pyplot as plt\n",
    "from sklearn.decomposition import PCA\n",
    "import numpy as np\n",
    "\n",
    "# assume X_scaled is your standardized data and clusters are your kmeans labels\n",
    "pca = PCA(n_components=2)\n",
    "X_pca = pca.fit_transform(X_scaled)\n",
    "\n",
    "plt.figure(figsize=(8,6))\n",
    "\n",
    "# Get unique cluster labels\n",
    "unique_clusters = np.unique(clusters)\n",
    "colors = ['red', 'green', 'blue']  # one color per cluster\n",
    "\n",
    "for i, cluster in enumerate(unique_clusters):\n",
    "    plt.scatter(\n",
    "        X_pca[clusters == cluster, 0],\n",
    "        X_pca[clusters == cluster, 1],\n",
    "        label=f\"Cluster {cluster}\",\n",
    "        color=colors[i],\n",
    "        alpha=0.6\n",
    "    )\n",
    "\n",
    "plt.xlabel(\"PC1\")\n",
    "plt.ylabel(\"PC2\")\n",
    "plt.title(\"KMeans Clusters (PCA projection)\")\n",
    "plt.legend()  # add legend instead of colorbar\n",
    "plt.show()\n"
   ]
  },
  {
   "cell_type": "code",
   "execution_count": 1550,
   "id": "efaa3925-814b-45bd-a0a5-f05e424c7f9a",
   "metadata": {
    "execution": {
     "iopub.execute_input": "2025-09-25T08:11:18.317661Z",
     "iopub.status.busy": "2025-09-25T08:11:18.316538Z",
     "iopub.status.idle": "2025-09-25T08:11:18.332145Z",
     "shell.execute_reply": "2025-09-25T08:11:18.331393Z",
     "shell.execute_reply.started": "2025-09-25T08:11:18.317587Z"
    },
    "tags": []
   },
   "outputs": [
    {
     "data": {
      "image/png": "[encoded data removed]",
      "text/plain": [
       "<IPython.core.display.Image object>"
      ]
     },
     "execution_count": 1550,
     "metadata": {},
     "output_type": "execute_result"
    }
   ],
   "source": [
    "centers = pd.DataFrame(kmeans.cluster_centers_, columns=X_adj.columns)\n",
    "plt.figure(figsize=(10,6))\n",
    "sns.heatmap(centers, annot=True, cmap=\"coolwarm\", center=0)\n",
    "plt.title(\"Cluster Centers (Standardized Features)\")\n",
    "plt.xticks(rotation=60)\n",
    "plt.ylabel(\"Cluster\")\n",
    "plt.show()"
   ]
  },
  {
   "cell_type": "markdown",
   "id": "1269c1b5-5be6-4957-ac4c-e100daedd622",
   "metadata": {},
   "source": [
    "## DBI Exploration"
   ]
  },
  {
   "cell_type": "code",
   "execution_count": 513,
   "id": "d650f997-a510-4b1a-97da-34fcf6fa6bb5",
   "metadata": {
    "execution": {
     "iopub.execute_input": "2025-09-24T22:33:04.032609Z",
     "iopub.status.busy": "2025-09-24T22:33:04.031765Z",
     "iopub.status.idle": "2025-09-24T22:33:04.524141Z",
     "shell.execute_reply": "2025-09-24T22:33:04.523834Z",
     "shell.execute_reply.started": "2025-09-24T22:33:04.032562Z"
    },
    "tags": []
   },
   "outputs": [],
   "source": [
    "#dbi_complaints = pd.read_csv(os.path.join(base_dir, 'Department_of_Building_Inspection_Complaints_(All_Divisions)_20250923.csv'))\n",
    "#dbi_violations = pd.read_csv(os.path.join(base_dir, 'Notices_of_Violation_issued_by_the_Department_of_Building_Inspection_20250923.csv'))\n",
    "\n",
    "# clean data\n",
    "dbi_complaints = dbi_complaints[dbi_complaints['Date Filed'].str[-4]!='0']\n",
    "dbi_complaints = dbi_complaints.rename(columns={'point': 'Location'})\n",
    "dbi_complaints['Date Filed'] = pd.to_datetime(dbi_complaints['Date Filed'])"
   ]
  },
  {
   "cell_type": "code",
   "execution_count": 514,
   "id": "d6fe750b-678b-485a-8c15-4b280c99b8a5",
   "metadata": {
    "execution": {
     "iopub.execute_input": "2025-09-24T22:33:04.525029Z",
     "iopub.status.busy": "2025-09-24T22:33:04.524920Z",
     "iopub.status.idle": "2025-09-24T22:33:04.569292Z",
     "shell.execute_reply": "2025-09-24T22:33:04.568908Z",
     "shell.execute_reply.started": "2025-09-24T22:33:04.525018Z"
    },
    "tags": []
   },
   "outputs": [],
   "source": [
    "#compute building complaints for the last five years\n",
    "current_year = 2024\n",
    "time_range = 5\n",
    "\n",
    "dbi_complaints = dbi_complaints[dbi_complaints['Date Filed'].dt.year>= (current_year-time_range)]"
   ]
  },
  {
   "cell_type": "code",
   "execution_count": 521,
   "id": "4aa5abcd-e81d-498c-b3e2-f3cbef04c0b2",
   "metadata": {
    "execution": {
     "iopub.execute_input": "2025-09-24T22:34:15.391498Z",
     "iopub.status.busy": "2025-09-24T22:34:15.389884Z",
     "iopub.status.idle": "2025-09-24T22:34:15.447040Z",
     "shell.execute_reply": "2025-09-24T22:34:15.446591Z",
     "shell.execute_reply.started": "2025-09-24T22:34:15.391416Z"
    },
    "tags": []
   },
   "outputs": [],
   "source": [
    "dbi_complaints_stats = dbi_complaints[['Location', 'Complaint Number']].groupby(by=['Location']).count().reset_index()\n",
    "dbi_complaints_open = dbi_complaints[dbi_complaints.Status=='Active']\n",
    "dbi_complaints_open = dbi_complaints_open[['Location', 'Complaint Number']].groupby(by=['Location']).count().reset_index()\n",
    "dbi_complaints_open = dbi_complaints_open.rename(columns={'Complaint Number': 'Active Complaint Number'})"
   ]
  },
  {
   "cell_type": "code",
   "execution_count": 526,
   "id": "25b3ae00-7e35-43d2-ae27-4554a1eac131",
   "metadata": {
    "execution": {
     "iopub.execute_input": "2025-09-24T22:35:30.155304Z",
     "iopub.status.busy": "2025-09-24T22:35:30.154187Z",
     "iopub.status.idle": "2025-09-24T22:35:30.180367Z",
     "shell.execute_reply": "2025-09-24T22:35:30.179920Z",
     "shell.execute_reply.started": "2025-09-24T22:35:30.155228Z"
    },
    "tags": []
   },
   "outputs": [],
   "source": [
    "all_dbi_complaints = pd.merge(dbi_complaints_stats, dbi_complaints_open, on='Location', how='outer').fillna(0)"
   ]
  },
  {
   "cell_type": "code",
   "execution_count": 500,
   "id": "ede6d1ce-a45b-4ed9-9eb9-873a63aa3300",
   "metadata": {
    "execution": {
     "iopub.execute_input": "2025-09-24T22:26:29.121512Z",
     "iopub.status.busy": "2025-09-24T22:26:29.120361Z",
     "iopub.status.idle": "2025-09-24T22:26:29.175614Z",
     "shell.execute_reply": "2025-09-24T22:26:29.175256Z",
     "shell.execute_reply.started": "2025-09-24T22:26:29.121434Z"
    },
    "tags": []
   },
   "outputs": [],
   "source": [
    "dbi_complaints_stats = dbi_complaints[['Location', 'Complaint Number']].groupby(by=['Location']).count().reset_index()"
   ]
  },
  {
   "cell_type": "markdown",
   "id": "522ce30b-2d3a-46ea-8257-acde45657d1d",
   "metadata": {},
   "source": [
    "## Data Visualizations"
   ]
  },
  {
   "cell_type": "code",
   "execution_count": 1467,
   "id": "a5599dbf-9156-4ab1-822d-2c6e50f24dfa",
   "metadata": {
    "execution": {
     "iopub.execute_input": "2025-09-25T05:45:05.882802Z",
     "iopub.status.busy": "2025-09-25T05:45:05.881587Z",
     "iopub.status.idle": "2025-09-25T05:45:06.023904Z",
     "shell.execute_reply": "2025-09-25T05:45:06.023605Z",
     "shell.execute_reply.started": "2025-09-25T05:45:05.882737Z"
    },
    "tags": []
   },
   "outputs": [
    {
     "data": {
      "text/plain": [
       "Text(0, 0.5, 'Frequency')"
      ]
     },
     "execution_count": 1467,
     "metadata": {},
     "output_type": "execute_result"
    },
    {
     "data": {
      "image/png": "[encoded data removed]",
      "text/plain": [
       "<Figure size 640x480 with 1 Axes>"
      ]
     },
     "metadata": {},
     "output_type": "display_data"
    }
   ],
   "source": [
    "import matplotlib.pyplot as plt\n",
    "desired_bin_width = 1\n",
    "min_val, max_val = 0, 10\n",
    "bins = np.arange(min_val, max_val + desired_bin_width, desired_bin_width)\n",
    "\n",
    "low_mean = fire_data['Violation Number'].mean()\n",
    "\n",
    "plt.hist(fire_data['Violation Number'], bins=bins)\n",
    "#plt.xlim(min_val, max_val)\n",
    "plt.axvline(round(low_mean), color='red', linestyle='dashed', linewidth=1)\n",
    "plt.axvline(round(np.percentile(fire_data['Violation Number'], 99)), color='red', linestyle='dashed', linewidth=1)\n",
    "plt.title('Violation Number in R-2 Properties')\n",
    "plt.xlabel('Violation Number')\n",
    "plt.ylabel('Frequency')"
   ]
  },
  {
   "cell_type": "code",
   "execution_count": 1094,
   "id": "ba85f459-73db-4f78-856a-88ba022ac270",
   "metadata": {
    "execution": {
     "iopub.execute_input": "2025-09-25T03:03:39.288930Z",
     "iopub.status.busy": "2025-09-25T03:03:39.286052Z",
     "iopub.status.idle": "2025-09-25T03:03:39.399745Z",
     "shell.execute_reply": "2025-09-25T03:03:39.399448Z",
     "shell.execute_reply.started": "2025-09-25T03:03:39.288406Z"
    },
    "tags": []
   },
   "outputs": [
    {
     "data": {
      "text/plain": [
       "Text(0, 0.5, 'Frequency')"
      ]
     },
     "execution_count": 1094,
     "metadata": {},
     "output_type": "execute_result"
    },
    {
     "data": {
      "image/png": "[encoded data removed]",
      "text/plain": [
       "<Figure size 640x480 with 1 Axes>"
      ]
     },
     "metadata": {},
     "output_type": "display_data"
    }
   ],
   "source": [
    "import matplotlib.pyplot as plt\n",
    "\n",
    "low_mean = fire_data['Year Property Built'].mean()\n",
    "\n",
    "plt.hist(fire_data['Year Property Built'])\n",
    "plt.axvline(round(low_mean), color='red', linestyle='dashed', linewidth=1)\n",
    "#plt.axvline(round(np.percentile(fire_data['Number of Units'], 99)), color='red', linestyle='dashed', linewidth=1)\n",
    "plt.title('Age Distribution of Properties')\n",
    "plt.xlabel('Year Built')\n",
    "plt.ylabel('Frequency')"
   ]
  },
  {
   "cell_type": "code",
   "execution_count": 1095,
   "id": "86eaae34-a0d9-46ee-89db-7270d560f698",
   "metadata": {
    "execution": {
     "iopub.execute_input": "2025-09-25T03:03:47.983648Z",
     "iopub.status.busy": "2025-09-25T03:03:47.982036Z",
     "iopub.status.idle": "2025-09-25T03:03:48.100559Z",
     "shell.execute_reply": "2025-09-25T03:03:48.100259Z",
     "shell.execute_reply.started": "2025-09-25T03:03:47.983562Z"
    },
    "tags": []
   },
   "outputs": [
    {
     "data": {
      "text/plain": [
       "Text(0, 0.5, 'Frequency')"
      ]
     },
     "execution_count": 1095,
     "metadata": {},
     "output_type": "execute_result"
    },
    {
     "data": {
      "image/png": "[encoded data removed]",
      "text/plain": [
       "<Figure size 640x480 with 1 Axes>"
      ]
     },
     "metadata": {},
     "output_type": "display_data"
    }
   ],
   "source": [
    "import matplotlib.pyplot as plt\n",
    "desired_bin_width = 1\n",
    "min_val, max_val = 0, 10\n",
    "bins = np.arange(min_val, max_val + desired_bin_width, desired_bin_width)\n",
    "\n",
    "low_mean = fire_data['Low Alarm Incidents'].mean()\n",
    "\n",
    "plt.hist(fire_data['Low Alarm Incidents'], bins=bins)\n",
    "#plt.xlim(min_val, max_val)\n",
    "plt.axvline(round(low_mean), color='red', linestyle='dashed', linewidth=1)\n",
    "plt.axvline(round(np.percentile(fire_data['Low Alarm Incidents'], 99)), color='red', linestyle='dashed', linewidth=1)\n",
    "plt.title('Low Alarm Incidents in R-2 Properties')\n",
    "plt.xlabel('Low Alarm Incidents')\n",
    "plt.ylabel('Frequency')"
   ]
  },
  {
   "cell_type": "code",
   "execution_count": 1096,
   "id": "b91d35c5-6473-46a3-a096-e6420b7db3a9",
   "metadata": {
    "execution": {
     "iopub.execute_input": "2025-09-25T03:03:49.462207Z",
     "iopub.status.busy": "2025-09-25T03:03:49.461623Z",
     "iopub.status.idle": "2025-09-25T03:03:49.579291Z",
     "shell.execute_reply": "2025-09-25T03:03:49.578924Z",
     "shell.execute_reply.started": "2025-09-25T03:03:49.462157Z"
    },
    "tags": []
   },
   "outputs": [
    {
     "data": {
      "text/plain": [
       "Text(0, 0.5, 'Frequency')"
      ]
     },
     "execution_count": 1096,
     "metadata": {},
     "output_type": "execute_result"
    },
    {
     "data": {
      "image/png": "[encoded data removed]",
      "text/plain": [
       "<Figure size 640x480 with 1 Axes>"
      ]
     },
     "metadata": {},
     "output_type": "display_data"
    }
   ],
   "source": [
    "hi_mean = fire_data['High Alarm Incidents'].mean()\n",
    "\n",
    "plt.hist(fire_data[fire_data['High Alarm Incidents']>0]['High Alarm Incidents'])\n",
    "plt.axvline(round(hi_mean), color='red', linestyle='dashed', linewidth=1)\n",
    "plt.title('High Alarm Incidents in R-2 Properties')\n",
    "plt.xlabel('High Alarm Incidents')\n",
    "plt.ylabel('Frequency')"
   ]
  },
  {
   "cell_type": "code",
   "execution_count": 1342,
   "id": "81cd6c06-37f0-4039-8e4c-2465d83dfa6f",
   "metadata": {
    "execution": {
     "iopub.execute_input": "2025-09-25T04:32:50.103571Z",
     "iopub.status.busy": "2025-09-25T04:32:50.102969Z",
     "iopub.status.idle": "2025-09-25T04:32:50.217016Z",
     "shell.execute_reply": "2025-09-25T04:32:50.216730Z",
     "shell.execute_reply.started": "2025-09-25T04:32:50.103521Z"
    },
    "tags": []
   },
   "outputs": [
    {
     "data": {
      "text/plain": [
       "Text(0, 0.5, 'Frequency')"
      ]
     },
     "execution_count": 1342,
     "metadata": {},
     "output_type": "execute_result"
    },
    {
     "data": {
      "image/png": "[encoded data removed]",
      "text/plain": [
       "<Figure size 640x480 with 1 Axes>"
      ]
     },
     "metadata": {},
     "output_type": "display_data"
    }
   ],
   "source": [
    "open_mean = fire_data['Open Violation Number'].mean()\n",
    "\n",
    "desired_bin_width = 1\n",
    "min_val, max_val = 0, 10\n",
    "bins = np.arange(min_val, max_val + desired_bin_width, desired_bin_width)\n",
    "\n",
    "\n",
    "plt.hist(fire_data[fire_data['Open Violation Number']>0]['Open Violation Number'], bins=bins)\n",
    "plt.axvline(round(open_mean), color='red', linestyle='dashed', linewidth=1)\n",
    "plt.axvline(round(np.percentile(fire_data['Open Violation Number'], 99.9)), color='red', linestyle='dashed', linewidth=1)\n",
    "plt.title('Open Violations in R-2 Properties')\n",
    "plt.xlabel('Open Violations')\n",
    "plt.ylabel('Frequency')"
   ]
  }
 ],
 "metadata": {
  "kernelspec": {
   "display_name": "Python 3 (ipykernel)",
   "language": "python",
   "name": "python3"
  },
  "language_info": {
   "codemirror_mode": {
    "name": "ipython",
    "version": 3
   },
   "file_extension": ".py",
   "mimetype": "text/x-python",
   "name": "python",
   "nbconvert_exporter": "python",
   "pygments_lexer": "ipython3",
   "version": "3.10.14"
  }
 },
 "nbformat": 4,
 "nbformat_minor": 5
}
